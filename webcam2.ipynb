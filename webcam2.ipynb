{
  "nbformat": 4,
  "nbformat_minor": 0,
  "metadata": {
    "colab": {
      "provenance": [],
      "collapsed_sections": [],
      "authorship_tag": "ABX9TyM99LzUGBnYScqxePRSiqVD",
      "include_colab_link": true
    },
    "kernelspec": {
      "name": "python3",
      "display_name": "Python 3"
    },
    "language_info": {
      "name": "python"
    }
  },
  "cells": [
    {
      "cell_type": "markdown",
      "metadata": {
        "id": "view-in-github",
        "colab_type": "text"
      },
      "source": [
        "<a href=\"https://colab.research.google.com/github/walwaljj/colab/blob/main/webcam2.ipynb\" target=\"_parent\"><img src=\"https://colab.research.google.com/assets/colab-badge.svg\" alt=\"Open In Colab\"/></a>"
      ]
    },
    {
      "cell_type": "code",
      "source": [
        "%cd ..\n",
        "from google.colab import drive\n",
        "drive.mount('/content/drive',force_remount=True)"
      ],
      "metadata": {
        "id": "v18YLhDK-eCk"
      },
      "execution_count": null,
      "outputs": []
    },
    {
      "cell_type": "code",
      "execution_count": null,
      "metadata": {
        "id": "GVBdb31E-Sji"
      },
      "outputs": [],
      "source": [
        "#----------------------------------------------웹캠 사진찍기 ? 코드드\n",
        "import cv2\n",
        " \n",
        "webcam = cv2.VideoCapture(0)\n",
        "#-- 웹캠 오류 처리\n",
        "if not webcam.isOpened():\n",
        "    print(\"WebCam is not running\")\n",
        "    exit()\n",
        "time_num= 0# 잘못 조정하면 아래 반복문 계쏙실행.. 잘 조정해야한다.\n",
        "image_num = 0\n",
        "#-- 웹캠 열기\n",
        "while webcam.isOpened():\n",
        "    status, frame = webcam.read()\n",
        "    time_num = time_num + 1\n",
        "    if not status:\n",
        "        break\n",
        "    #-- 출력창\n",
        "    # cv2.imshow(\"WebCam\", frame)\n",
        "    #-- 캡쳐 프레임 간격 설정\n",
        "    if time_num == 1:\n",
        "        image_num = image_num + 1\n",
        "        cv2.imwrite('img'+str(image_num)+'.png', frame) #-- 본인 편의에 맞게 경로 설정 및 이미지 이름 변경\n",
        "        time_num = 1\n",
        "        if image_num == 1:# 저장할 이미지 장 수\n",
        "            break\n",
        "webcam.release()\n",
        "cv2.destroyAllWindows()\n"
      ]
    }
  ]
}